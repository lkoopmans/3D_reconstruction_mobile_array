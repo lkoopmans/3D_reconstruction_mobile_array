{
 "cells": [
  {
   "cell_type": "code",
   "execution_count": null,
   "id": "42db3231-e042-46c5-98e7-f0b48f987bbb",
   "metadata": {
    "pycharm": {
     "name": "#%%\n"
    }
   },
   "outputs": [],
   "source": [
    "import ffmpeg \n",
    "from scipy.io import wavfile\n",
    "from scipy.signal import fftconvolve\n",
    "import json\n",
    "import os\n",
    "import numpy as np\n",
    "import subprocess \n",
    "import cv2\n",
    "from multiprocessing import Pool\n"
   ]
  },
  {
   "cell_type": "markdown",
   "id": "9ecc6de7-c7ce-43d7-99ed-68ee2a8a19bc",
   "metadata": {
    "tags": [],
    "pycharm": {
     "name": "#%% md\n"
    }
   },
   "source": [
    "#### Load the videos"
   ]
  },
  {
   "cell_type": "code",
   "execution_count": null,
   "id": "a74445b0-3e50-47cb-8a46-4bba3bb59484",
   "metadata": {
    "pycharm": {
     "name": "#%%\n"
    }
   },
   "outputs": [],
   "source": [
    "video_files = ['../Videos/131_0721_Ben_caru+SG_attack_cam_A.mp4',\n",
    "               '../Videos/131_0721_Ben_caru+SG_attack_cam_B.mp4',\n",
    "               '../Videos/131_0721_Ben_caru+SG_attack_cam_C.mp4']"
   ]
  },
  {
   "cell_type": "markdown",
   "id": "8bc04f8b-d8cc-4413-b932-d00ba328bbd2",
   "metadata": {
    "tags": [],
    "pycharm": {
     "name": "#%% md\n"
    }
   },
   "source": [
    "#### Synchronize the videos"
   ]
  },
  {
   "cell_type": "code",
   "execution_count": null,
   "id": "42a3560b-66f8-46cf-b347-aa9315896cb9",
   "metadata": {
    "pycharm": {
     "name": "#%%\n"
    }
   },
   "outputs": [],
   "source": [
    "def parse_metadata(video_file):\n",
    "    temp_file = os.path.splitext(video_file)[0] + '.json'\n",
    "    subprocess.run('ffprobe -v quiet -print_format json -show_format -show_streams {} > {}'.format(video_file,\n",
    "                                                                                                   temp_file),\n",
    "                   shell=True)\n",
    "    metadata = json.load(open(temp_file, 'r'))\n",
    "    os.remove(temp_file)\n",
    "    fps = np.array(metadata['streams'][0]['r_frame_rate'].split('/')).astype(int)\n",
    "    channels = int(metadata['streams'][1]['channels'])\n",
    "    sample_rate = int(metadata['streams'][1]['sample_rate'])\n",
    "    fps = fps[0] / fps[1]\n",
    "    return {'fps': fps,\n",
    "            'sample_rate': sample_rate,\n",
    "            'channels': channels}\n",
    "\n",
    "def extract_audio(video_file, start, duration):\n",
    "    metadata = parse_metadata(video_file)\n",
    "    \n",
    "    temp_file = os.path.splitext(video_file)[0] + '.wav'\n",
    "    subprocess.run('ffmpeg -y -v quiet -i {} -vn -c:a pcm_s16le -ss {} -t {} {}'.format(video_file,\n",
    "                                                                                     start,\n",
    "                                                                                     duration,\n",
    "                                                                                     temp_file),\n",
    "                   shell=True)\n",
    "    sample_rate, signal = wavfile.read(temp_file)\n",
    "    os.remove(temp_file)\n",
    "    assert (sample_rate == metadata['sample_rate']) & (signal.shape[1] == metadata['channels']), \\\n",
    "        'audio stream did not match video metadata'\n",
    "    if metadata['channels'] > 1:\n",
    "        signal = signal.mean(axis=1)\n",
    "    return signal\n",
    "\n",
    "def compute_offset(audio_1, audio_2, sample_rate):\n",
    "    corr = fftconvolve(audio_1, audio_2[::-1], mode='full')\n",
    "    offset = np.argmax(corr)\n",
    "    offset_seconds = ((2 * audio_2.size - 1) // 2 - offset) / sample_rate\n",
    "    return offset_seconds\n",
    "\n",
    "def check_input(args, video_files):\n",
    "    checked_args = []\n",
    "    for arg in args:\n",
    "        if isinstance(arg, (float, int)):\n",
    "            arg = [arg] * len(video_files)\n",
    "        elif arg is None:\n",
    "            arg = [30] * len(video_files)   # Why is this 30?\n",
    "        assert isinstance(arg, list) and (len(arg) == len(video_files)), \\\n",
    "            'start and duration must be either None, or of type int, float or list with length of video files'\n",
    "        checked_args.append(arg)\n",
    "    return checked_args\n",
    "\n",
    "def cut_video(video_file, offset):\n",
    "    cut_file = os.path.splitext(video_file)[0] + '_cut' + os.path.splitext(video_file)[1]\n",
    "    subprocess.run('ffmpeg -y -v quiet -i {} -ss {} -c:v libx264 -an -crf 18 -preset ultrafast {}'.format(video_file,\n",
    "                                                                                                       offset,\n",
    "                                                                                                       cut_file),\n",
    "                   shell=True)\n",
    "    return True\n",
    "\n",
    "def copy_video(video_file):\n",
    "    cut_file = os.path.splitext(video_file)[0] + '_cut' + os.path.splitext(video_file)[1]\n",
    "    subprocess.run('cp {} {}'.format(video_file, cut_file), shell=True)\n",
    "    return True\n",
    "\n",
    "def synchronize_videos(video_files, start=None, duration=None, dry_run=False):\n",
    "    metadata = [parse_metadata(video_file) for video_file in video_files]\n",
    "    assert len(set([metadata[idx]['fps'] for idx in range(len(metadata))])) == 1, \\\n",
    "        'videos must have the same frame rate'\n",
    "    assert len(set([metadata[idx]['fps'] for idx in range(len(metadata))])) == 1, \\\n",
    "        'audio streams must have the same sample rate'\n",
    "    start, duration = check_input([start, duration], video_files) # Start = 0, otherwise wavfiles are empty\n",
    "    signals = [extract_audio(video_file, start=0, duration=d) \\\n",
    "               for video_file, s, d in zip(video_files, start, duration)]\n",
    "    offsets = [0]\n",
    "    ref = signals[0]\n",
    "    signals = signals[1:]\n",
    "    for sig in signals:\n",
    "        offsets.append(compute_offset(ref, sig, metadata[0]['sample_rate']))\n",
    "    offsets = np.array(offsets) - np.min(offsets)\n",
    "    for idx, video_file in enumerate(video_files):\n",
    "        if dry_run:\n",
    "            continue\n",
    "        if offsets[idx] * metadata[idx]['fps'] < 1:\n",
    "            copy_video(video_file)\n",
    "        else:\n",
    "            cut_video(video_file, offsets[idx])\n",
    "    return True"
   ]
  },
  {
   "cell_type": "code",
   "execution_count": null,
   "id": "4f8c3cf3-8385-41c8-94dd-20f4a627d5ca",
   "metadata": {
    "pycharm": {
     "name": "#%%\n"
    }
   },
   "outputs": [],
   "source": [
    "# set duration of audio signal used for synchronization\n",
    "# dry_run=True can be used to just print the video offsets without cutting\n",
    "# ffmpeg needs to be installed (this is only tested on linux systems)\n",
    "\n",
    "synchronize_videos(video_files, duration=180, dry_run=False)"
   ]
  },
  {
   "cell_type": "markdown",
   "id": "138b6546-c78b-476c-a5ae-9f03936b979b",
   "metadata": {
    "tags": [],
    "pycharm": {
     "name": "#%% md\n"
    }
   },
   "source": [
    "### Extract one frame every second"
   ]
  },
  {
   "cell_type": "code",
   "execution_count": null,
   "id": "2629e9c0-ce28-49d9-8866-3ab9de006024",
   "metadata": {
    "pycharm": {
     "name": "#%%\n"
    }
   },
   "outputs": [],
   "source": [
    "def extract_frames(video_file, sampling_rate, output_directory, start_frame=0):\n",
    "    base_name = os.path.splitext(os.path.basename(video_file))[0]\n",
    "    output_directory = os.path.join(output_directory, base_name)\n",
    "    cap = cv2.VideoCapture(video_file)\n",
    "    n_frames = int(cap.get(cv2.CAP_PROP_FRAME_COUNT))\n",
    "    end_frame = n_frames\n",
    "    ret = True\n",
    "    frame_idx = 0\n",
    "    if not os.path.exists(output_directory) and start_frame == 0:\n",
    "        os.makedirs(output_directory, exist_ok=True)\n",
    "    while ret:\n",
    "        ret, img = cap.read()\n",
    "        if frame_idx % sampling_rate == start_frame and frame_idx >= start_frame and frame_idx <= end_frame:\n",
    "            cv2.imwrite(os.path.join(output_directory, '{}_{:05d}.jpg'.format(base_name, frame_idx)), img)\n",
    "        frame_idx += 1\n",
    "        if frame_idx > end_frame:\n",
    "            break\n",
    "    return True\n",
    "\n",
    "class FrameSampler:\n",
    "    \n",
    "    def __init__(self, video_file, sampling_rate, output_directory, n_jobs=-1):\n",
    "        self.n_jobs = os.cpu_count() if n_jobs <= 0 or not isinstance(j_jobs, int) else n_jobs\n",
    "        self.video_file = video_file\n",
    "        self.sampling_rate = sampling_rate\n",
    "        self.output_directory = output_directory\n",
    "        \n",
    "    def run(self):\n",
    "        if self.n_jobs == 1:\n",
    "            extract_frames(self.video_file, self.sampling_rate, self.output_directory, start_frame=0)\n",
    "        else:\n",
    "            process_list = [[self.video_file] * self.n_jobs,\n",
    "                            [self.sampling_rate * (self.n_jobs + 1)] * self.n_jobs,\n",
    "                            [self.output_directory] * self.n_jobs,\n",
    "                            np.arange(0, self.sampling_rate * self.n_jobs, self.sampling_rate)]\n",
    "            with Pool(processes=self.n_jobs) as pool:\n",
    "                pool.starmap(extract_frames, list(zip(*process_list)))\n",
    "                pool.close()\n",
    "                pool.join()\n",
    "        return True"
   ]
  },
  {
   "cell_type": "markdown",
   "id": "a9eb4c7d-cda7-4e90-94d1-4469f127f1a6",
   "metadata": {
    "pycharm": {
     "name": "#%% md\n"
    }
   },
   "source": [
    "##### Make list of cut video files"
   ]
  },
  {
   "cell_type": "code",
   "execution_count": null,
   "id": "511af55d-0111-4d3f-a04d-31c2f979e9aa",
   "metadata": {
    "pycharm": {
     "name": "#%%\n"
    }
   },
   "outputs": [],
   "source": [
    "files = os.listdir('../Videos')\n",
    "cut_video_files = []\n",
    "for filename in files:\n",
    "    if '_cut' in filename and '.mp4' in filename:\n",
    "        cut_video_files.append('../Videos/' + filename)\n",
    "print(cut_video_files)"
   ]
  },
  {
   "cell_type": "markdown",
   "id": "594462eb-c04e-4e8d-bb18-54b22c971f83",
   "metadata": {
    "pycharm": {
     "name": "#%% md\n"
    }
   },
   "source": [
    "##### Run frame sampler for all files"
   ]
  },
  {
   "cell_type": "code",
   "execution_count": null,
   "id": "20943a83-2e92-4e5d-9895-8e452cbe86bc",
   "metadata": {
    "pycharm": {
     "name": "#%%\n"
    }
   },
   "outputs": [],
   "source": [
    "# set paths and sampling rate accordingly\n",
    "# note sampling_rate refers to every nth frame that should be extracted\n",
    "# so if you have a 60fps video, sampling_rate=20 will extract 3 frames per second\n",
    "\n",
    "for file in cut_video_files:\n",
    "    print(file)\n",
    "    cap = cv2.VideoCapture(file)\n",
    "    fps = int(cap.get(cv2.CAP_PROP_FPS))\n",
    "    print(fps)\n",
    "    sampler = FrameSampler(video_file=file, sampling_rate=fps, output_directory='../Videos')\n",
    "    sampler.run()"
   ]
  }
 ],
 "metadata": {
  "kernelspec": {
   "display_name": "Python 3 (ipykernel)",
   "language": "python",
   "name": "python3"
  },
  "language_info": {
   "codemirror_mode": {
    "name": "ipython",
    "version": 3
   },
   "file_extension": ".py",
   "mimetype": "text/x-python",
   "name": "python",
   "nbconvert_exporter": "python",
   "pygments_lexer": "ipython3",
   "version": "3.8.10"
  }
 },
 "nbformat": 4,
 "nbformat_minor": 5
}