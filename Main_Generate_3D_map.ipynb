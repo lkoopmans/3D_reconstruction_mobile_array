{
 "cells": [
  {
   "cell_type": "code",
   "execution_count": 1,
   "outputs": [],
   "source": [
    "import ffmpeg\n",
    "from scipy.io import wavfile\n",
    "from scipy.signal import fftconvolve\n",
    "import json\n",
    "import os\n",
    "import sys\n",
    "import numpy as np\n",
    "import subprocess\n",
    "import cv2\n",
    "from multiprocessing import Pool\n",
    "import time\n",
    "\n",
    "from lib import Functions_Generate3dMap as map"
   ],
   "metadata": {
    "collapsed": false,
    "pycharm": {
     "name": "#%%\n"
    }
   }
  },
  {
   "cell_type": "markdown",
   "source": [
    "### Set input parameters\n",
    "\n",
    "First, we define a folder containing the input videos from an event, captured with N cameras.\n",
    "\n",
    "Furthermore, for the analyses of video data, we define 3 stages; the pre-attack stage, the attack stage, and the post-attack stage.\n",
    "For each stage we define a sample interval with which we extract images from the video streams. The pre- and post-attack stage are\n",
    "typically sampled with a higher sample interval than the attack itself. These stages are used to have a wider range of images,\n",
    "leading to a more accurate reconstruction of the 3D map.\n",
    "\n"
   ],
   "metadata": {
    "collapsed": false,
    "pycharm": {
     "name": "#%% md\n"
    }
   }
  },
  {
   "cell_type": "code",
   "execution_count": 2,
   "outputs": [],
   "source": [
    "# Synchronization parameters\n",
    "input_videos_folder = 'input/131'  # folder containing the videos which need to be synced\n",
    "\n",
    "# Time intervals\n",
    "attack_stages = [2, 3, 4, 5]  # [start of the pre-attack, start of the attack, end of the attack, end of the post-attack] (s)\n",
    "attack_stage_sample_interval = [2, 1, 2] # sample rate of: [pre attack, attack,  post-attack] as a multiple of the frame rate (s)\n"
   ],
   "metadata": {
    "collapsed": false,
    "pycharm": {
     "name": "#%%\n"
    }
   }
  },
  {
   "cell_type": "markdown",
   "source": [
    "### Generate 3D map\n",
    "\n",
    "The generation of the 3D map is done in the following way"
   ],
   "metadata": {
    "collapsed": false,
    "pycharm": {
     "name": "#%% md\n"
    }
   }
  },
  {
   "cell_type": "code",
   "execution_count": 3,
   "outputs": [
    {
     "name": "stdout",
     "output_type": "stream",
     "text": [
      "Building directories...\n",
      "Verify input data...\n",
      "Extract audio signals...\n",
      "Compute maximum cross-correlation between the audio signals and shift the videos accordingly...\n",
      "Write output...\n",
      "Video  1 / 1\n",
      "Video  2 / 2\n",
      "Video  3 / 3\n",
      "Done. Time elapsed:  1.202 s\n",
      "--------------------------------------------\n",
      "Generate single images from video data...\n",
      "Generating 241 images from video set A ...\n",
      "Generating 241 images from video set B ...\n",
      "Generating 241 images from video set C ...\n",
      "Done. Time elapsed:  0.275 s\n"
     ]
    }
   ],
   "source": [
    "# Define 3D map object\n",
    "map_3d = map.Generate3dMap(input_videos_folder)\n",
    "\n",
    "# 1. Synchronize the video streams\n",
    "map_3d.synchronize_videos(start=0, duration=100, dry_run=True)\n",
    "\n",
    "# 2. Extract single frames from video\n",
    "map_3d.generate_images(attack_stages, attack_stage_sample_interval, dry_run=True)\n",
    "\n",
    "# 3. Generate the 3D map from images"
   ],
   "metadata": {
    "collapsed": false,
    "pycharm": {
     "name": "#%%\n"
    }
   }
  },
  {
   "cell_type": "code",
   "execution_count": 3,
   "outputs": [],
   "source": [],
   "metadata": {
    "collapsed": false,
    "pycharm": {
     "name": "#%%\n"
    }
   }
  }
 ],
 "metadata": {
  "kernelspec": {
   "name": "venv",
   "language": "python",
   "display_name": "venv"
  },
  "language_info": {
   "codemirror_mode": {
    "name": "ipython",
    "version": 2
   },
   "file_extension": ".py",
   "mimetype": "text/x-python",
   "name": "python",
   "nbconvert_exporter": "python",
   "pygments_lexer": "ipython2",
   "version": "2.7.6"
  }
 },
 "nbformat": 4,
 "nbformat_minor": 0
}